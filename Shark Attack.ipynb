{
 "cells": [
  {
   "cell_type": "markdown",
   "metadata": {},
   "source": [
    "# Shark Attack\n",
    "\n",
    "## Introduction\n",
    "\n",
    "The data came from [sharkattackfile.net](http://www.sharkattackfile.net/incidentlog.htm) and for the size of the coastline we used the data from [wikipedia](http://www.wikipedia.com/en/List_of_countries_by_length_of_coastline).\n",
    "\n",
    "This is a short analysis of the shark attacks in the world, we will try to determine which countries are riskier.\n",
    "\n",
    "    NOTE : English are not my mother tongue, sorry for that."
   ]
  },
  {
   "cell_type": "code",
   "execution_count": 1,
   "metadata": {
    "collapsed": true
   },
   "outputs": [],
   "source": [
    "# Import library\n",
    "import numpy as np\n",
    "import pandas as pd\n",
    "import matplotlib.pyplot as plt\n",
    "import matplotlib.patches as mpatches\n",
    "import seaborn as sns\n",
    "import difflib\n",
    "\n",
    "# Load the data\n",
    "# NOTE : we are using 'skip_footer' to delete full blank rows at the end of the excel file\n",
    "shark = pd.read_excel(\"GSAF5.xls\", skip_footer=19556)\n",
    "country = pd.read_csv(\"countries.csv\",  sep=';')\n",
    "\n",
    "%matplotlib inline"
   ]
  },
  {
   "cell_type": "markdown",
   "metadata": {},
   "source": [
    "## Data Preprocessing\n",
    "### Cleaning Column's Names\n",
    "\n",
    "**Note:** If you want to use my clean data, it's available here : [shark_attack.csv](/shark_attack.csv)"
   ]
  },
  {
   "cell_type": "code",
   "execution_count": 2,
   "metadata": {
    "collapsed": false
   },
   "outputs": [
    {
     "data": {
      "text/plain": [
       "Index(['Case Number', 'Date', 'Year', 'Type', 'Country', 'Area', 'Location',\n",
       "       'Activity', 'Name', 'Sex ', 'Age', 'Injury', 'Fatal (Y/N)', 'Time',\n",
       "       'Species ', 'Investigator or Source', 'pdf', 'href formula', 'href',\n",
       "       'Case Number.1', 'Case Number.2', 'original order', 'Unnamed: 22',\n",
       "       'Unnamed: 23'],\n",
       "      dtype='object')"
      ]
     },
     "execution_count": 2,
     "metadata": {},
     "output_type": "execute_result"
    }
   ],
   "source": [
    "# Checking columns\n",
    "shark.columns"
   ]
  },
  {
   "cell_type": "code",
   "execution_count": 3,
   "metadata": {
    "collapsed": true
   },
   "outputs": [],
   "source": [
    "# Selecting the columns\n",
    "col_to_keep = [\"Date\", \"Year\", \"Type\", \"Country\", \"Activity\", \"Fatal (Y/N)\"]\n",
    "shark = shark[col_to_keep]"
   ]
  },
  {
   "cell_type": "code",
   "execution_count": 4,
   "metadata": {
    "collapsed": true
   },
   "outputs": [],
   "source": [
    "# Renaming columns names\n",
    "shark = shark.rename(columns={'Fatal (Y/N)': 'Fatal'})"
   ]
  },
  {
   "cell_type": "markdown",
   "metadata": {},
   "source": [
    "### Dealing With Missing and Incorrect Values"
   ]
  },
  {
   "cell_type": "code",
   "execution_count": 5,
   "metadata": {
    "collapsed": false
   },
   "outputs": [
    {
     "data": {
      "text/html": [
       "<div>\n",
       "<table border=\"1\" class=\"dataframe\">\n",
       "  <thead>\n",
       "    <tr style=\"text-align: right;\">\n",
       "      <th></th>\n",
       "      <th>Date</th>\n",
       "      <th>Year</th>\n",
       "      <th>Type</th>\n",
       "      <th>Country</th>\n",
       "      <th>Activity</th>\n",
       "      <th>Fatal</th>\n",
       "    </tr>\n",
       "  </thead>\n",
       "  <tbody>\n",
       "    <tr>\n",
       "      <th>10</th>\n",
       "      <td>Reported 08-Jan-2017</td>\n",
       "      <td>NaN</td>\n",
       "      <td>Invalid</td>\n",
       "      <td>AUSTRALIA</td>\n",
       "      <td>Spearfishing</td>\n",
       "      <td>NaN</td>\n",
       "    </tr>\n",
       "  </tbody>\n",
       "</table>\n",
       "</div>"
      ],
      "text/plain": [
       "                    Date  Year     Type    Country      Activity Fatal\n",
       "10  Reported 08-Jan-2017   NaN  Invalid  AUSTRALIA  Spearfishing   NaN"
      ]
     },
     "execution_count": 5,
     "metadata": {},
     "output_type": "execute_result"
    }
   ],
   "source": [
    "# Year's Column\n",
    "shark[shark[\"Year\"].isnull()]"
   ]
  },
  {
   "cell_type": "code",
   "execution_count": 6,
   "metadata": {
    "collapsed": false
   },
   "outputs": [],
   "source": [
    "# The Date column give us the value for Year\n",
    "shark.loc[10, \"Year\"] = 2017"
   ]
  },
  {
   "cell_type": "code",
   "execution_count": 7,
   "metadata": {
    "collapsed": false
   },
   "outputs": [],
   "source": [
    "# Changing the type\n",
    "shark[\"Year\"] = shark[\"Year\"].astype(\"int\")"
   ]
  },
  {
   "cell_type": "code",
   "execution_count": 8,
   "metadata": {
    "collapsed": false
   },
   "outputs": [
    {
     "data": {
      "text/plain": [
       "dtype('int64')"
      ]
     },
     "execution_count": 8,
     "metadata": {},
     "output_type": "execute_result"
    }
   ],
   "source": [
    "# Checking the change\n",
    "shark[\"Year\"].dtype"
   ]
  },
  {
   "cell_type": "markdown",
   "metadata": {},
   "source": [
    "#### Selecting Data"
   ]
  },
  {
   "cell_type": "code",
   "execution_count": 9,
   "metadata": {
    "collapsed": false
   },
   "outputs": [
    {
     "data": {
      "text/plain": [
       "(1700, 2017)"
      ]
     },
     "execution_count": 9,
     "metadata": {},
     "output_type": "execute_result"
    },
    {
     "data": {
      "image/png": "[encoded data removed]",
      "text/plain": [
       "<matplotlib.figure.Figure at 0x10e32a6d8>"
      ]
     },
     "metadata": {},
     "output_type": "display_data"
    }
   ],
   "source": [
    "# Generating an histogram\n",
    "plt.hist(x=\"Year\", data=shark, bins=90)\n",
    "plt.xlim([1700, shark[\"Year\"].max()])"
   ]
  },
  {
   "cell_type": "markdown",
   "metadata": {},
   "source": [
    "** NOTE : To avoid a big shunk of missing data and low quality data, we will choose to select the data from 1800 to the present day, and as you can see on the plot we don't loose too much data**"
   ]
  },
  {
   "cell_type": "code",
   "execution_count": 10,
   "metadata": {
    "collapsed": false
   },
   "outputs": [],
   "source": [
    "# Selecting the data from 1800\n",
    "shark = shark[shark[\"Year\"] >= 1800]"
   ]
  },
  {
   "cell_type": "markdown",
   "metadata": {},
   "source": [
    "#### Cleaning The Fatal Column"
   ]
  },
  {
   "cell_type": "code",
   "execution_count": 11,
   "metadata": {
    "collapsed": false
   },
   "outputs": [],
   "source": [
    "# Fatal's Columns\n",
    "shark[\"Fatal\"] = shark[\"Fatal\"].fillna(\"UNKNOWN\")"
   ]
  },
  {
   "cell_type": "code",
   "execution_count": 12,
   "metadata": {
    "collapsed": false
   },
   "outputs": [
    {
     "data": {
      "text/plain": [
       "N                 4280\n",
       "Y                 1475\n",
       "UNKNOWN            109\n",
       " N                   8\n",
       "F                    1\n",
       "N                    1\n",
       "n                    1\n",
       "--M524--M3133Y       1\n",
       "Name: Fatal, dtype: int64"
      ]
     },
     "execution_count": 12,
     "metadata": {},
     "output_type": "execute_result"
    }
   ],
   "source": [
    "shark[\"Fatal\"].value_counts()"
   ]
  },
  {
   "cell_type": "code",
   "execution_count": 13,
   "metadata": {
    "collapsed": false
   },
   "outputs": [
    {
     "data": {
      "text/plain": [
       "N          4290\n",
       "Y          1476\n",
       "UNKNOWN     110\n",
       "Name: Fatal, dtype: int64"
      ]
     },
     "execution_count": 13,
     "metadata": {},
     "output_type": "execute_result"
    }
   ],
   "source": [
    "# Fixing the problems\n",
    "shark.loc[shark[\"Fatal\"] == \" N\", \"Fatal\"] = \"N\"\n",
    "shark.loc[shark[\"Fatal\"] == \"N \", \"Fatal\"] = \"N\"\n",
    "shark.loc[shark[\"Fatal\"] == \"n\", \"Fatal\"] = \"N\"\n",
    "shark.loc[shark[\"Fatal\"] == \"F\", \"Fatal\"] = \"Y\"\n",
    "shark.loc[shark[\"Fatal\"] == \"--M524--M3133Y\", \"Fatal\"] = \"UNKNOWN\"\n",
    "shark[\"Fatal\"].value_counts()"
   ]
  },
  {
   "cell_type": "markdown",
   "metadata": {},
   "source": [
    "#### Cleaning The Country Column"
   ]
  },
  {
   "cell_type": "code",
   "execution_count": 14,
   "metadata": {
    "collapsed": false
   },
   "outputs": [],
   "source": [
    "# Country's columns \n",
    "shark[\"Country\"] = shark[\"Country\"].fillna(\"UNKNOWN\")"
   ]
  },
  {
   "cell_type": "code",
   "execution_count": 15,
   "metadata": {
    "collapsed": false
   },
   "outputs": [],
   "source": [
    "# Fixing the problems\n",
    "shark[\"Country\"] = shark[\"Country\"].fillna(\"UNKNOWN\")\n",
    "shark[\"Country\"] = shark[\"Country\"].str.rstrip()\n",
    "shark[\"Country\"] = shark[\"Country\"].str.lstrip()\n",
    "shark[\"Country\"] = shark[\"Country\"].str.replace(\"USA\",\"United States\")\n",
    "shark[\"Country\"] = shark[\"Country\"].str.replace(\"ST. MAARTIN\",\"SAINT MARTIN\")\n",
    "shark[\"Country\"] = shark[\"Country\"].str.replace(\"ST. MARTIN\",\"SAINT MARTIN\")\n",
    "shark[\"Country\"] = shark[\"Country\"].str.replace(\"COLUMBIA\",\"Colombia\")\n",
    "shark[\"Country\"] = shark[\"Country\"].str.replace(\"UNITED ARAB EMIRATES \\(UAE\\)\",\"United Arab Emirates\")\n",
    "shark[\"Country\"] = shark[\"Country\"].str.replace(\"ENGLAND\",\"United Kingdom\")\n",
    "shark[\"Country\"] = shark[\"Country\"].str.replace(\"SCOTLAND\",\"United Kingdom\")\n",
    "shark[\"Country\"] = shark[\"Country\"].str.replace(\"(.*)\\?\",\"UNKNOWN\")\n",
    "shark[\"Country\"] = shark[\"Country\"].str.title()\n",
    "shark[\"Country\"] = shark[\"Country\"].str.replace(\"Trinidad & Tobago\",\"Trinidad and Tobago\")\n",
    "shark[\"Country\"] = shark[\"Country\"].str.replace(\"^(New Guinea)\",\"Papua New Guinea\")\n",
    "shark[\"Country\"] = shark[\"Country\"].str.replace(\"New Britain\",\"Papua New Guinea\")"
   ]
  },
  {
   "cell_type": "markdown",
   "metadata": {},
   "source": [
    "#### Cleaning The Activity Column"
   ]
  },
  {
   "cell_type": "code",
   "execution_count": 16,
   "metadata": {
    "collapsed": false
   },
   "outputs": [],
   "source": [
    "shark[\"Activity\"].fillna(\"UNKNOWN\")\n",
    "\n",
    "# Function to recode activities\n",
    "def code_act(a):\n",
    "    if isinstance(a, str):\n",
    "        a = a.lower()\n",
    "        if 'surfing' in a:\n",
    "            return \"Surfing\"\n",
    "        elif 'swimming' in a:\n",
    "            return \"Swimming\"\n",
    "        elif 'fishing' in a:\n",
    "            return \"Fishing\"\n",
    "        elif 'bathing' in a:\n",
    "            return \"Bathing\"\n",
    "        elif 'wading' in a:\n",
    "            return \"Wading\"\n",
    "        elif 'diving' in a:\n",
    "            return \"Diving\"\n",
    "        else:\n",
    "            return \"Other\"\n",
    "    else:\n",
    "        return \"Other\"\n",
    "\n",
    "# Apply the function and recreate         \n",
    "shark[\"Activity\"] = shark[\"Activity\"].apply(lambda x: code_act(x))"
   ]
  },
  {
   "cell_type": "markdown",
   "metadata": {},
   "source": [
    "#### Cleaning The Date Column"
   ]
  },
  {
   "cell_type": "code",
   "execution_count": 17,
   "metadata": {
    "collapsed": false
   },
   "outputs": [],
   "source": [
    "# Importing the dateparser\n",
    "import dateparser"
   ]
  },
  {
   "cell_type": "code",
   "execution_count": 18,
   "metadata": {
    "collapsed": false
   },
   "outputs": [],
   "source": [
    "# Fixing some of the big errors in the date column\n",
    "tmp_date = shark[\"Date\"].astype(\"str\")\n",
    "tmp_date = tmp_date.str.replace(\"[rR]eport.*d\", \"\")\n",
    "tmp_date = tmp_date.str.replace(\"\\.b\", \"\")\n",
    "tmp_date = tmp_date.str.replace(\"\\.R\", \"\")\n",
    "tmp_date = tmp_date.str.replace(\"\\.\", \"-\")\n",
    "tmp_date = tmp_date.str.replace(\"190Feb\", \"19-Feb\")\n",
    "tmp_date = tmp_date.str.replace(\"Late \", \"\")\n",
    "tmp_date = tmp_date.str.replace(\"Early \", \"-\")\n",
    "tmp_date = tmp_date.str.replace(\"Mid.\", \"15-\")\n",
    "tmp_date = tmp_date.str.replace(\"-Ap-\", \"-Apr-\")\n",
    "tmp_date = tmp_date.str.replace(\"-Jut-\", \"-Jul-\")\n",
    "tmp_date = tmp_date.str.replace(\"23-Decp1896\", \"23-Dec-1896\")\n",
    "tmp_date = tmp_date.str.replace(\"Ca.\", \"\")\n",
    "tmp_date = tmp_date.str.lstrip()\n",
    "tmp_date = tmp_date.str.rstrip()"
   ]
  },
  {
   "cell_type": "code",
   "execution_count": 19,
   "metadata": {
    "collapsed": false
   },
   "outputs": [],
   "source": [
    "# Applying the date parser\n",
    "shark[\"Formated Date\"] = tmp_date.apply(lambda x: dateparser.parse(x) if len(x) > 7 else np.datetime64('NaT'))"
   ]
  },
  {
   "cell_type": "code",
   "execution_count": 20,
   "metadata": {
    "collapsed": false
   },
   "outputs": [],
   "source": [
    "# Selecting data with a correct datetime\n",
    "shark = shark[shark[\"Formated Date\"].notnull()]"
   ]
  },
  {
   "cell_type": "code",
   "execution_count": 21,
   "metadata": {
    "collapsed": false
   },
   "outputs": [
    {
     "data": {
      "text/html": [
       "<div>\n",
       "<table border=\"1\" class=\"dataframe\">\n",
       "  <thead>\n",
       "    <tr style=\"text-align: right;\">\n",
       "      <th></th>\n",
       "      <th>Date</th>\n",
       "      <th>Year</th>\n",
       "      <th>Type</th>\n",
       "      <th>Country</th>\n",
       "      <th>Activity</th>\n",
       "      <th>Fatal</th>\n",
       "      <th>Formated Date</th>\n",
       "    </tr>\n",
       "  </thead>\n",
       "  <tbody>\n",
       "    <tr>\n",
       "      <th>493</th>\n",
       "      <td>14-May-2014</td>\n",
       "      <td>2013</td>\n",
       "      <td>Unprovoked</td>\n",
       "      <td>Ecuador</td>\n",
       "      <td>Surfing</td>\n",
       "      <td>N</td>\n",
       "      <td>2014-05-14</td>\n",
       "    </tr>\n",
       "    <tr>\n",
       "      <th>620</th>\n",
       "      <td>Apr-2013</td>\n",
       "      <td>2012</td>\n",
       "      <td>Unprovoked</td>\n",
       "      <td>United States</td>\n",
       "      <td>Other</td>\n",
       "      <td>N</td>\n",
       "      <td>2013-04-14</td>\n",
       "    </tr>\n",
       "    <tr>\n",
       "      <th>723</th>\n",
       "      <td>26-Jun-2008</td>\n",
       "      <td>2011</td>\n",
       "      <td>Unprovoked</td>\n",
       "      <td>United States</td>\n",
       "      <td>Other</td>\n",
       "      <td>N</td>\n",
       "      <td>2008-06-26</td>\n",
       "    </tr>\n",
       "    <tr>\n",
       "      <th>758</th>\n",
       "      <td>Reported 10-Mar-2010</td>\n",
       "      <td>2011</td>\n",
       "      <td>Invalid</td>\n",
       "      <td>Egypt</td>\n",
       "      <td>Other</td>\n",
       "      <td>N</td>\n",
       "      <td>2010-03-10</td>\n",
       "    </tr>\n",
       "    <tr>\n",
       "      <th>1004</th>\n",
       "      <td>06-Dec-2006</td>\n",
       "      <td>2008</td>\n",
       "      <td>Boat</td>\n",
       "      <td>Australia</td>\n",
       "      <td>Fishing</td>\n",
       "      <td>N</td>\n",
       "      <td>2006-12-06</td>\n",
       "    </tr>\n",
       "    <tr>\n",
       "      <th>1132</th>\n",
       "      <td>November 2011</td>\n",
       "      <td>2007</td>\n",
       "      <td>Invalid</td>\n",
       "      <td>Mexico</td>\n",
       "      <td>Diving</td>\n",
       "      <td>N</td>\n",
       "      <td>2011-11-14</td>\n",
       "    </tr>\n",
       "    <tr>\n",
       "      <th>2491</th>\n",
       "      <td>27-Jul-1989</td>\n",
       "      <td>1969</td>\n",
       "      <td>Invalid</td>\n",
       "      <td>Bermuda</td>\n",
       "      <td>Diving</td>\n",
       "      <td>UNKNOWN</td>\n",
       "      <td>1989-07-27</td>\n",
       "    </tr>\n",
       "    <tr>\n",
       "      <th>3160</th>\n",
       "      <td>01-Jan-1971</td>\n",
       "      <td>1972</td>\n",
       "      <td>Unprovoked</td>\n",
       "      <td>South Africa</td>\n",
       "      <td>Other</td>\n",
       "      <td>N</td>\n",
       "      <td>1971-01-01</td>\n",
       "    </tr>\n",
       "    <tr>\n",
       "      <th>3161</th>\n",
       "      <td>01-Jan-1971</td>\n",
       "      <td>1972</td>\n",
       "      <td>Unprovoked</td>\n",
       "      <td>Mozambique</td>\n",
       "      <td>Other</td>\n",
       "      <td>N</td>\n",
       "      <td>1971-01-01</td>\n",
       "    </tr>\n",
       "    <tr>\n",
       "      <th>3431</th>\n",
       "      <td>30-Jul-1964</td>\n",
       "      <td>1965</td>\n",
       "      <td>Provoked</td>\n",
       "      <td>Bahamas</td>\n",
       "      <td>Other</td>\n",
       "      <td>N</td>\n",
       "      <td>1964-07-30</td>\n",
       "    </tr>\n",
       "    <tr>\n",
       "      <th>3513</th>\n",
       "      <td>08-Feb-1954</td>\n",
       "      <td>1964</td>\n",
       "      <td>Unprovoked</td>\n",
       "      <td>South Africa</td>\n",
       "      <td>Other</td>\n",
       "      <td>N</td>\n",
       "      <td>1954-02-08</td>\n",
       "    </tr>\n",
       "    <tr>\n",
       "      <th>3704</th>\n",
       "      <td>16-Jul-1961</td>\n",
       "      <td>1971</td>\n",
       "      <td>Unprovoked</td>\n",
       "      <td>Turkey</td>\n",
       "      <td>Swimming</td>\n",
       "      <td>N</td>\n",
       "      <td>1961-07-16</td>\n",
       "    </tr>\n",
       "    <tr>\n",
       "      <th>4212</th>\n",
       "      <td>14-Dec-1962</td>\n",
       "      <td>1952</td>\n",
       "      <td>Invalid</td>\n",
       "      <td>Guatemala</td>\n",
       "      <td>Other</td>\n",
       "      <td>Y</td>\n",
       "      <td>1962-12-14</td>\n",
       "    </tr>\n",
       "    <tr>\n",
       "      <th>5055</th>\n",
       "      <td>Reported 29-Aug-1929</td>\n",
       "      <td>1921</td>\n",
       "      <td>Unprovoked</td>\n",
       "      <td>Australia</td>\n",
       "      <td>Other</td>\n",
       "      <td>N</td>\n",
       "      <td>1929-08-29</td>\n",
       "    </tr>\n",
       "    <tr>\n",
       "      <th>5131</th>\n",
       "      <td>08-Nov-1914</td>\n",
       "      <td>1915</td>\n",
       "      <td>Unprovoked</td>\n",
       "      <td>Australia</td>\n",
       "      <td>Bathing</td>\n",
       "      <td>N</td>\n",
       "      <td>1914-11-08</td>\n",
       "    </tr>\n",
       "    <tr>\n",
       "      <th>5484</th>\n",
       "      <td>Reported 25-Mar-1893</td>\n",
       "      <td>1892</td>\n",
       "      <td>Unprovoked</td>\n",
       "      <td>Pacific Ocean</td>\n",
       "      <td>Other</td>\n",
       "      <td>Y</td>\n",
       "      <td>1893-03-25</td>\n",
       "    </tr>\n",
       "    <tr>\n",
       "      <th>5638</th>\n",
       "      <td>10-Jun-1978</td>\n",
       "      <td>1878</td>\n",
       "      <td>Unprovoked</td>\n",
       "      <td>Philippines</td>\n",
       "      <td>Other</td>\n",
       "      <td>Y</td>\n",
       "      <td>1978-06-10</td>\n",
       "    </tr>\n",
       "    <tr>\n",
       "      <th>5790</th>\n",
       "      <td>28-Jul-1952</td>\n",
       "      <td>1852</td>\n",
       "      <td>Invalid</td>\n",
       "      <td>Atlantic Ocean</td>\n",
       "      <td>Other</td>\n",
       "      <td>UNKNOWN</td>\n",
       "      <td>1952-07-28</td>\n",
       "    </tr>\n",
       "  </tbody>\n",
       "</table>\n",
       "</div>"
      ],
      "text/plain": [
       "                      Date  Year        Type         Country  Activity  \\\n",
       "493            14-May-2014  2013  Unprovoked         Ecuador   Surfing   \n",
       "620               Apr-2013  2012  Unprovoked   United States     Other   \n",
       "723            26-Jun-2008  2011  Unprovoked   United States     Other   \n",
       "758   Reported 10-Mar-2010  2011     Invalid           Egypt     Other   \n",
       "1004           06-Dec-2006  2008        Boat       Australia   Fishing   \n",
       "1132         November 2011  2007     Invalid          Mexico    Diving   \n",
       "2491           27-Jul-1989  1969     Invalid         Bermuda    Diving   \n",
       "3160           01-Jan-1971  1972  Unprovoked    South Africa     Other   \n",
       "3161           01-Jan-1971  1972  Unprovoked      Mozambique     Other   \n",
       "3431           30-Jul-1964  1965    Provoked         Bahamas     Other   \n",
       "3513           08-Feb-1954  1964  Unprovoked    South Africa     Other   \n",
       "3704           16-Jul-1961  1971  Unprovoked          Turkey  Swimming   \n",
       "4212           14-Dec-1962  1952     Invalid       Guatemala     Other   \n",
       "5055  Reported 29-Aug-1929  1921  Unprovoked       Australia     Other   \n",
       "5131           08-Nov-1914  1915  Unprovoked       Australia   Bathing   \n",
       "5484  Reported 25-Mar-1893  1892  Unprovoked   Pacific Ocean     Other   \n",
       "5638           10-Jun-1978  1878  Unprovoked     Philippines     Other   \n",
       "5790           28-Jul-1952  1852     Invalid  Atlantic Ocean     Other   \n",
       "\n",
       "        Fatal Formated Date  \n",
       "493         N    2014-05-14  \n",
       "620         N    2013-04-14  \n",
       "723         N    2008-06-26  \n",
       "758         N    2010-03-10  \n",
       "1004        N    2006-12-06  \n",
       "1132        N    2011-11-14  \n",
       "2491  UNKNOWN    1989-07-27  \n",
       "3160        N    1971-01-01  \n",
       "3161        N    1971-01-01  \n",
       "3431        N    1964-07-30  \n",
       "3513        N    1954-02-08  \n",
       "3704        N    1961-07-16  \n",
       "4212        Y    1962-12-14  \n",
       "5055        N    1929-08-29  \n",
       "5131        N    1914-11-08  \n",
       "5484        Y    1893-03-25  \n",
       "5638        Y    1978-06-10  \n",
       "5790  UNKNOWN    1952-07-28  "
      ]
     },
     "execution_count": 21,
     "metadata": {},
     "output_type": "execute_result"
    }
   ],
   "source": [
    "# Checking the inconsistenccy in the data between Date and Year columns\n",
    "shark[shark[\"Year\"] != shark[\"Formated Date\"].dt.year]"
   ]
  },
  {
   "cell_type": "code",
   "execution_count": 22,
   "metadata": {
    "collapsed": true
   },
   "outputs": [],
   "source": [
    "# Fixing the problems and reorganizing the dataframe\n",
    "shark = shark[[\"Formated Date\", \"Country\", \"Type\", \"Activity\", \"Fatal\"]]\n",
    "shark = shark.rename(columns={\"Formated Date\": \"Date\"})"
   ]
  },
  {
   "cell_type": "markdown",
   "metadata": {},
   "source": [
    "### Adding Data To Complete The Analysis"
   ]
  },
  {
   "cell_type": "code",
   "execution_count": 23,
   "metadata": {
    "collapsed": false
   },
   "outputs": [],
   "source": [
    "# --- Add extra data about countries from \"countries.csv\"\n",
    "\n",
    "# Selecting and renaming columns\n",
    "keep_country_col = ['Country (en)', 'Country code', 'Continent', 'Population', 'Area', 'Coastline']\n",
    "country = country[keep_country_col]\n",
    "country = country.rename(columns={'Country (en)': 'Country'})\n",
    "\n",
    "# function to find match between the two lists of countries\n",
    "def CloseCountry(x):\n",
    "    x = x.lower()\n",
    "    c = country[\"Country\"]\n",
    "    r = difflib.get_close_matches(x, c, 1, 0.7)\n",
    "    if not r:\n",
    "        return \"NO MATCH\"\n",
    "    else:\n",
    "        return r[0]\n",
    "\n",
    "# Applying the function    \n",
    "tmp_country = shark[\"Country\"].apply(lambda x: CloseCountry(x))\n",
    "shark[\"NormCountry\"] = shark[\"Country\"].where(tmp_country.str[0] != shark[\"Country\"].str[0], tmp_country)"
   ]
  },
  {
   "cell_type": "code",
   "execution_count": 24,
   "metadata": {
    "collapsed": false
   },
   "outputs": [],
   "source": [
    "# Merge the shark dataframe with the country dataframe\n",
    "shark = shark.join(country[[\"Country\", \"Country code\", \"Continent\"]].set_index(\"Country\"), on=\"Country\")"
   ]
  },
  {
   "cell_type": "markdown",
   "metadata": {},
   "source": [
    "### Adding a New Hemesphere Column\n",
    "\n",
    "    NOTE: This is an approximation."
   ]
  },
  {
   "cell_type": "code",
   "execution_count": 25,
   "metadata": {
    "collapsed": false
   },
   "outputs": [],
   "source": [
    "# Function to get the hemisphere of a country\n",
    "def get_hemisphere(country):\n",
    "    southern_hemisphere = [\n",
    "    \"South Africa\", \"Reunion\", \"Mozambique\", \"Tanzania\", \"Mauritius\", \"Seychelles\", \n",
    "    \"Madagascar\", \"Namibia\", \"Mayotte\", \"Gabon\", \"Indonesia\", \"Brazil\", \"Ecuador\", \n",
    "    \"Argentina\", \"Chile\", \"Paraguay\", \"Uruguay\", \"Australia\", \"Papua New Guinea\",\n",
    "    \"Fiji\", \"Papua New Guinea\", \"British New Guinea\", \"South Atlantic Ocean\", \"Indian Ocean\", \n",
    "    \"South Pacific Ocean\", \"Tasman Sea\",\"Solomon Islands / Vanuatu\"]\n",
    "    if country in southern_hemisphere:\n",
    "        return \"S\"\n",
    "    if country == \"Unknown\":\n",
    "        return np.nan\n",
    "    else:\n",
    "        return \"N\"\n",
    "\n",
    "# Applying the function to create a new column \"hemisphere\"\n",
    "shark[\"Hemisphere\"] = shark[\"Country\"].apply(lambda x: get_hemisphere(x))"
   ]
  },
  {
   "cell_type": "code",
   "execution_count": 26,
   "metadata": {
    "collapsed": false
   },
   "outputs": [],
   "source": [
    "# Reorganizing the dataframe and saving the clean dataframe to a csv files\n",
    "shark = shark[[\"Date\", \"Country\", \"Country code\", \"Type\", \"Continent\", \"Hemisphere\", \"Activity\", \"Fatal\"]]\n",
    "shark.to_csv(\"shark_attack.csv\")"
   ]
  },
  {
   "cell_type": "code",
   "execution_count": 27,
   "metadata": {
    "collapsed": true
   },
   "outputs": [],
   "source": [
    "shark[\"Month\"] = shark[\"Date\"].dt.month\n",
    "shark[\"Year\"] = shark[\"Date\"].dt.year"
   ]
  },
  {
   "cell_type": "markdown",
   "metadata": {},
   "source": [
    "## Analysing The Data\n",
    "### Attack by Year"
   ]
  },
  {
   "cell_type": "code",
   "execution_count": 28,
   "metadata": {
    "collapsed": false
   },
   "outputs": [
    {
     "data": {
      "text/plain": [
       "[<matplotlib.text.Text at 0x10eb38be0>, <matplotlib.text.Text at 0x10e76c080>]"
      ]
     },
     "execution_count": 28,
     "metadata": {},
     "output_type": "execute_result"
    },
    {
     "data": {
      "image/png": "[encoded data removed]",
      "text/plain": [
       "<matplotlib.figure.Figure at 0x10f16e358>"
      ]
     },
     "metadata": {},
     "output_type": "display_data"
    }
   ],
   "source": [
    "sns.set(style=\"white\")\n",
    "sns.color_palette(\"deep\")\n",
    "sns.set_color_codes(\"deep\")\n",
    "\n",
    "# Initialize the matplotlib figure\n",
    "fig, ax = plt.subplots(figsize=(18, 8))\n",
    "plt.title(\"Evolution of Shark Attacks Since 1940\")\n",
    "# Plot the total attack by year\n",
    "p = sns.countplot(x=\"Year\", data=shark[shark[\"Year\"] >= 1940], label=\"Total Shark Attacks\", color=\"r\")\n",
    "g = sns.countplot(x=\"Year\", data=shark[(shark[\"Year\"] >= 1940) & (shark[\"Fatal\"] == \"N\")], \n",
    "                  label=\"Non-Fatal Shark Attacks\", color=\"b\")\n",
    "\n",
    "# Add a legend and informative axis label\n",
    "ax.legend(ncol=2, loc=\"upper left\", frameon=False)\n",
    "p.set_xticklabels(p.get_xticklabels(), rotation=90)\n",
    "sns.despine(left=True, bottom=True)\n",
    "ax.set(ylabel=\"\", xlabel=\"Year\")"
   ]
  },
  {
   "cell_type": "markdown",
   "metadata": {},
   "source": [
    "A simple analysis of the evolution of shark attacks shows us that we have more attacks since 2000-2001 than before, but we need to be careful with this conclusion, because we certainly have more data available since 2000 than before, so in reality the shape of the distribution could came from a lack of data."
   ]
  },
  {
   "cell_type": "markdown",
   "metadata": {},
   "source": [
    "### Hemisphere : Attack By Month"
   ]
  },
  {
   "cell_type": "code",
   "execution_count": 29,
   "metadata": {
    "collapsed": false
   },
   "outputs": [
    {
     "data": {
      "text/plain": [
       "[<matplotlib.text.Text at 0x10eff5d68>, <matplotlib.text.Text at 0x10efed550>]"
      ]
     },
     "execution_count": 29,
     "metadata": {},
     "output_type": "execute_result"
    },
    {
     "data": {
      "image/png": "[encoded data removed]",
      "text/plain": [
       "<matplotlib.figure.Figure at 0x10f120e10>"
      ]
     },
     "metadata": {},
     "output_type": "display_data"
    }
   ],
   "source": [
    "sns.set(style=\"white\")\n",
    "sns.color_palette(\"deep\")\n",
    "sns.set_color_codes(\"deep\")\n",
    "\n",
    "# Initialize the matplotlib figure\n",
    "fig = plt.figure(figsize=(18, 16))\n",
    "ax1 = plt.subplot(211)\n",
    "plt.title(\"Shark Attack In The Northern Hemisphere\")\n",
    "ax2 = plt.subplot(212)\n",
    "plt.title(\"Shark Attack In The Southern Hemisphere\")\n",
    "\n",
    "# Plot the total attack by Month\n",
    "p = sns.countplot(x=\"Month\", data=shark[shark[\"Hemisphere\"] == \"N\"], label=\"Total Shark Attack\", color=\"b\", ax=ax1)\n",
    "g = sns.countplot(x=\"Month\", data=shark[(shark[\"Hemisphere\"] == \"N\") & (shark[\"Fatal\"] == \"Y\")], \n",
    "                  label=\"Fatal Shark Attack\", color=\"r\", ax=ax1)\n",
    "\n",
    "v = sns.countplot(x=\"Month\", data=shark[shark[\"Hemisphere\"] == \"S\"], label=\"Total Shark Attack\", color=\"b\", ax=ax2)\n",
    "d = sns.countplot(x=\"Month\", data=shark[(shark[\"Hemisphere\"] == \"S\") & (shark[\"Fatal\"] == \"Y\")], \n",
    "                  label=\"Fatal Shark Attack\", color=\"r\", ax=ax2)\n",
    "\n",
    "m = ['Jan', 'Feb', 'Mar', 'Apr', 'May', 'Jun', 'Jul', 'Aug', 'Sep', 'Oct', 'Nov', 'Dec']\n",
    "\n",
    "# Add a legend and informative axis label\n",
    "ax1.legend(ncol=2, loc=\"upper left\", frameon=False)\n",
    "ax2.legend(ncol=2, loc=\"upper right\", frameon=False)\n",
    "p.set_xticklabels(m)\n",
    "v.set_xticklabels(m)\n",
    "sns.despine(left=True, bottom=True)\n",
    "ax1.set(ylabel=\"\", xlabel=\"Month\")\n",
    "ax2.set(ylabel=\"\", xlabel=\"Month\")"
   ]
  },
  {
   "cell_type": "markdown",
   "metadata": {},
   "source": [
    "As we might think, (1) the Northern Hemisphere is touched by much more attacks (around 90% of the earth's total human population live in that Hemisphere) (2) we see much more attacks in summer (Jul-Aug for the Northern and Dec-Jan for the Southern). \n",
    "\n",
    "To summerize, as expected more people live in the Northern, so we have more attacks in that hemisphere. We see more attacks in the summer because the nautics activities is higher during that period."
   ]
  },
  {
   "cell_type": "markdown",
   "metadata": {},
   "source": [
    "### A Simple Dashboard"
   ]
  },
  {
   "cell_type": "code",
   "execution_count": 30,
   "metadata": {
    "collapsed": false
   },
   "outputs": [
    {
     "data": {
      "text/plain": [
       "[<matplotlib.text.Text at 0x102dbe588>, <matplotlib.text.Text at 0x102db4d30>]"
      ]
     },
     "execution_count": 30,
     "metadata": {},
     "output_type": "execute_result"
    },
    {
     "data": {
      "image/png": "[encoded data removed]",
      "text/plain": [
       "<matplotlib.figure.Figure at 0x10f26a6d8>"
      ]
     },
     "metadata": {},
     "output_type": "display_data"
    }
   ],
   "source": [
    "plt.style.use('seaborn-white')\n",
    "sns.set(style=\"white\")\n",
    "sns.color_palette(\"deep\")\n",
    "sns.set_color_codes(\"deep\")\n",
    "\n",
    "# Initialize the matplotlib figure\n",
    "fig = plt.figure(figsize=(18, 18))\n",
    "ax1 = plt.subplot2grid((3,3), (0,0), colspan=2)\n",
    "plt.title('Countries With Most People Attacked By Sharks')\n",
    "ax2 = plt.subplot2grid((3,3), (0,2))\n",
    "plt.title('Total attacks by Hemisphere')\n",
    "ax3 = plt.subplot2grid((3,3), (1,0))\n",
    "ax3.pie(shark.Type.value_counts(), labels=shark.Type.value_counts().index)\n",
    "plt.title('Attacks by Type')\n",
    "ax4 = plt.subplot2grid((3,3), (1, 1), colspan=2)\n",
    "plt.title('Total attacks by Continent')\n",
    "ax5 = plt.subplot2grid((3,3), (2,0))\n",
    "ax5.pie(shark[shark[\"Fatal\"] != \"UNKNOWN\"].Fatal.value_counts(), labels=[\"Non-Fatal\", \"Fatal\"])\n",
    "plt.title('Fatal And Non-Fatal attacks')\n",
    "ax6 = plt.subplot2grid((3,3), (2,1), colspan=2)\n",
    "plt.title('Victims Activities During Attacks')\n",
    "\n",
    "# Draw plots\n",
    "g1 = sns.countplot(x=\"Country\", data=shark, palette=\"deep\", order=shark.Country.value_counts().iloc[:3].index, ax=ax1)\n",
    "g2 = sns.countplot(x=\"Hemisphere\", data=shark, palette=\"deep\", ax=ax2)\n",
    "g4 = sns.countplot(x=\"Continent\", data=shark[shark[\"Continent\"] != \"America\"], palette=\"deep\", ax=ax4)\n",
    "g6 = sns.countplot(x=\"Activity\", data=shark, palette=\"deep\", ax=ax6)\n",
    "\n",
    "# Add a legend and informative axis label\n",
    "sns.despine(left=True, bottom=True)\n",
    "ax1.set(ylabel=\"\", xlabel=\"\")\n",
    "ax2.set(ylabel=\"\", xlabel=\"\")\n",
    "ax2.set_xticklabels([\"Northern\", \"Southern\"])\n",
    "ax4.set(ylabel=\"\", xlabel=\"\")\n",
    "ax6.set(ylabel=\"\", xlabel=\"\")"
   ]
  },
  {
   "cell_type": "markdown",
   "metadata": {},
   "source": [
    "This is some basic informations about the data.\n",
    "1. We see that The United States, Australia and South Africa are the three coutries with the higher number of attacks. \n",
    "2. We also see that the majority of attacks were \"Unprovoked\".\n",
    "*For more information about the classification of the type of attacks we invit you to visit [the official website](http://www.sharkattackfile.net/incidentlog.htm).*\n",
    "3. As expected, the three continents of the three countries with the highest number of attacks are the continents where there has been more attacks.\n",
    "4. A vast majority of attacks were non-fatal.\n",
    "5. If we exclude the \"others activities\", fishing, swimming and surfing were the three mains activities touched by sharks attacks."
   ]
  },
  {
   "cell_type": "markdown",
   "metadata": {},
   "source": [
    "### Analysing A Little But More \"Attacks By Country\"\n",
    "\n",
    "    NOTE : Here we want to create a better indicator to compare attacks across countries."
   ]
  },
  {
   "cell_type": "code",
   "execution_count": 31,
   "metadata": {
    "collapsed": false
   },
   "outputs": [],
   "source": [
    "# Create a new df with values we need to study (Total Attack and Fatal Attack)\n",
    "total_attack_per_country = shark[\"Country\"].value_counts()\n",
    "fatal_attack_per_country = shark.loc[shark[\"Fatal\"] == \"Y\",\"Country\"].value_counts()\n",
    "\n",
    "attack_per_country = pd.concat([total_attack_per_country, fatal_attack_per_country], axis=1)\n",
    "attack_per_country.columns = [\"Total Attack\", \"Fatal Attack\"]\n",
    "attack_per_country[\"Fatal Attack\"] = attack_per_country[\"Fatal Attack\"].fillna(0).astype(\"int\")"
   ]
  },
  {
   "cell_type": "code",
   "execution_count": 32,
   "metadata": {
    "collapsed": true
   },
   "outputs": [],
   "source": [
    "# Merge the previous df with the country df\n",
    "new_country = country.join(attack_per_country, on=\"Country\")"
   ]
  },
  {
   "cell_type": "code",
   "execution_count": 33,
   "metadata": {
    "collapsed": true
   },
   "outputs": [],
   "source": [
    "new_country = new_country[new_country[\"Total Attack\"].notnull()]\n",
    "new_country[[\"Total Attack\", \"Fatal Attack\"]] = new_country[[\"Total Attack\", \"Fatal Attack\"]].astype(\"int\")"
   ]
  },
  {
   "cell_type": "code",
   "execution_count": 34,
   "metadata": {
    "collapsed": true
   },
   "outputs": [],
   "source": [
    "# Add some corrects values\n",
    "new_country.loc[new_country[\"Country\"] == \"Reunion\", \"Coastline\"] = 419\n",
    "new_country.loc[new_country[\"Country\"] == \"Martinique\", \"Coastline\"] = 350\n",
    "new_country.loc[new_country[\"Country\"] == \"Mayotte\", \"Coastline\"] = 185\n",
    "new_country.loc[new_country[\"Country\"] == \"Netherlands Antilles\", \"Coastline\"] = 364"
   ]
  },
  {
   "cell_type": "code",
   "execution_count": 35,
   "metadata": {
    "collapsed": false
   },
   "outputs": [],
   "source": [
    "# Computing indicators\n",
    "new_country[\"Fatal Attack in Total Attack\"] = 100 * (new_country[\"Fatal Attack\"] / new_country[\"Total Attack\"].astype(\"float\"))\n",
    "new_country[\"Attack per Coastline\"] = new_country[\"Total Attack\"] / new_country[\"Coastline\"].astype(\"float\")\n",
    "new_country[\"Fatal per Coastline\"] = new_country[\"Fatal Attack\"] / new_country[\"Coastline\"].astype(\"float\")\n",
    "\n",
    "# Replacing Inf values resulting from divisions by zero (one case)\n",
    "new_country.loc[np.isinf(new_country[\"Attack per Coastline\"]), \"Attack per Coastline\"] = float(0)\n",
    "new_country.loc[np.isinf(new_country[\"Fatal per Coastline\"]), \"Fatal per Coastline\"] = float(0)"
   ]
  },
  {
   "cell_type": "code",
   "execution_count": 36,
   "metadata": {
    "collapsed": false
   },
   "outputs": [
    {
     "data": {
      "text/plain": [
       "[<matplotlib.text.Text at 0x10c5ee0f0>, <matplotlib.text.Text at 0x10efb49b0>]"
      ]
     },
     "execution_count": 36,
     "metadata": {},
     "output_type": "execute_result"
    },
    {
     "data": {
      "image/png": "[encoded data removed]",
      "text/plain": [
       "<matplotlib.figure.Figure at 0x10f1350b8>"
      ]
     },
     "metadata": {},
     "output_type": "display_data"
    }
   ],
   "source": [
    "sns.set(style=\"white\")\n",
    "sns.color_palette(\"deep\")\n",
    "sns.set_color_codes(\"deep\")\n",
    "\n",
    "# Initialize the matplotlib figure\n",
    "fig = plt.figure(figsize=(18, 8))\n",
    "ax = plt.subplot()\n",
    "plt.title(\"Attacks Per Coastline Ratio\")\n",
    "\n",
    "# Selecting data\n",
    "top15 = new_country.sort_values(by=\"Attack per Coastline\", ascending=False).head(15)\n",
    "\n",
    "# Plot the total attack by Month\n",
    "p = sns.barplot(x=\"Country\", y=\"Attack per Coastline\", data=top15, label=\"Shark Attacks/Coastline\", color=\"b\", ax=ax)\n",
    "g = sns.barplot(x=\"Country\", y=\"Fatal per Coastline\", data=top15, \n",
    "                  label=\"Fatal Attacks/Coastline\", color=\"r\", ax=ax)\n",
    "\n",
    "# Add a legend and informative axis label\n",
    "ax.legend(ncol=2, loc=\"upper right\", frameon=False)\n",
    "sns.despine(left=True, bottom=True)\n",
    "ax.set(ylabel=\"# of Attacks / Coastline\", xlabel=\"Country\")"
   ]
  },
  {
   "cell_type": "markdown",
   "metadata": {},
   "source": [
    "With this indicator, we try to take into account the size of the country. Thus, we have choose to divide the number of attacks by the size of the coastline.  \n",
    "\n",
    "As you can see, just one country (South Africa) from the three coutries with the higher number of attacks are still in it, and in fact with the new indicator (attacks per Coastline) he is now the first country in the ranking.\n",
    "\n",
    "In term of fatal attacks, this is the Reunion Island the first, it seems that it's not a good place for swimming, surfing or fishing.\n",
    "\n",
    "**TL;DR CONCLUSION : Top three countries in term of risk of attacks: South Africa, Bermuda and Reunion. The last one is even the riskier in term of fatality.**"
   ]
  },
  {
   "cell_type": "code",
   "execution_count": null,
   "metadata": {
    "collapsed": true
   },
   "outputs": [],
   "source": []
  }
 ],
 "metadata": {
  "anaconda-cloud": {},
  "kernelspec": {
   "display_name": "Python [conda root]",
   "language": "python",
   "name": "conda-root-py"
  },
  "language_info": {
   "codemirror_mode": {
    "name": "ipython",
    "version": 3
   },
   "file_extension": ".py",
   "mimetype": "text/x-python",
   "name": "python",
   "nbconvert_exporter": "python",
   "pygments_lexer": "ipython3",
   "version": "3.5.2"
  }
 },
 "nbformat": 4,
 "nbformat_minor": 2
}
